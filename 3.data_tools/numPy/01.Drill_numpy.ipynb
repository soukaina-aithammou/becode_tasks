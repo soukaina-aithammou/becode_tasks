{
 "cells": [
  {
   "cell_type": "markdown",
   "metadata": {},
   "source": [
    "# Numpy exercises\n",
    "\n",
    "This is a collection of exercises that have been collected in the numpy mailing list, on stack overflow\n",
    "and in the numpy documentation. The goal of this collection is to offer a quick reference for both old\n",
    "and new users but also to provide a set of exercises for those who teach.\n",
    "\n",
    "In this notebook, you will find 30 exercises that are essential to practice and learn numpy. If you want to do further exploration, you can continue working on `02.Extra_Drill_numpy.ipynb`."
   ]
  },
  {
   "cell_type": "markdown",
   "metadata": {},
   "source": [
    "#### 1. Import the numpy package under the name `np` (★☆☆)"
   ]
  },
  {
   "cell_type": "code",
   "execution_count": 6,
   "metadata": {},
   "outputs": [],
   "source": [
    "import numpy as np\n"
   ]
  },
  {
   "cell_type": "markdown",
   "metadata": {},
   "source": [
    "#### 2. Print the numpy version and the configuration (★☆☆)"
   ]
  },
  {
   "cell_type": "code",
   "execution_count": 7,
   "metadata": {},
   "outputs": [
    {
     "name": "stdout",
     "output_type": "stream",
     "text": [
      "1.22.3\n",
      "openblas64__info:\n",
      "    libraries = ['openblas64_', 'openblas64_']\n",
      "    library_dirs = ['/usr/local/lib']\n",
      "    language = c\n",
      "    define_macros = [('HAVE_CBLAS', None), ('BLAS_SYMBOL_SUFFIX', '64_'), ('HAVE_BLAS_ILP64', None)]\n",
      "    runtime_library_dirs = ['/usr/local/lib']\n",
      "blas_ilp64_opt_info:\n",
      "    libraries = ['openblas64_', 'openblas64_']\n",
      "    library_dirs = ['/usr/local/lib']\n",
      "    language = c\n",
      "    define_macros = [('HAVE_CBLAS', None), ('BLAS_SYMBOL_SUFFIX', '64_'), ('HAVE_BLAS_ILP64', None)]\n",
      "    runtime_library_dirs = ['/usr/local/lib']\n",
      "openblas64__lapack_info:\n",
      "    libraries = ['openblas64_', 'openblas64_']\n",
      "    library_dirs = ['/usr/local/lib']\n",
      "    language = c\n",
      "    define_macros = [('HAVE_CBLAS', None), ('BLAS_SYMBOL_SUFFIX', '64_'), ('HAVE_BLAS_ILP64', None), ('HAVE_LAPACKE', None)]\n",
      "    runtime_library_dirs = ['/usr/local/lib']\n",
      "lapack_ilp64_opt_info:\n",
      "    libraries = ['openblas64_', 'openblas64_']\n",
      "    library_dirs = ['/usr/local/lib']\n",
      "    language = c\n",
      "    define_macros = [('HAVE_CBLAS', None), ('BLAS_SYMBOL_SUFFIX', '64_'), ('HAVE_BLAS_ILP64', None), ('HAVE_LAPACKE', None)]\n",
      "    runtime_library_dirs = ['/usr/local/lib']\n",
      "Supported SIMD extensions in this NumPy install:\n",
      "    baseline = SSE,SSE2,SSE3\n",
      "    found = SSSE3,SSE41,POPCNT,SSE42,AVX,F16C,FMA3,AVX2\n",
      "    not found = AVX512F,AVX512CD,AVX512_KNL,AVX512_KNM,AVX512_SKX,AVX512_CLX,AVX512_CNL,AVX512_ICL\n",
      "None\n"
     ]
    }
   ],
   "source": [
    "import numpy as np\n",
    "print(np.__version__)\n",
    "print(np.show_config())"
   ]
  },
  {
   "cell_type": "markdown",
   "metadata": {},
   "source": [
    "#### 3. Create a null vector of size 10 (★☆☆)"
   ]
  },
  {
   "cell_type": "code",
   "execution_count": 8,
   "metadata": {},
   "outputs": [
    {
     "data": {
      "text/plain": [
       "array([0., 0., 0., 0., 0., 0., 0., 0., 0., 0.])"
      ]
     },
     "execution_count": 8,
     "metadata": {},
     "output_type": "execute_result"
    }
   ],
   "source": [
    "x=np.zeros(10)\n",
    "x"
   ]
  },
  {
   "cell_type": "markdown",
   "metadata": {},
   "source": [
    "#### 4. How to find the memory size of any array (★☆☆)"
   ]
  },
  {
   "cell_type": "code",
   "execution_count": 9,
   "metadata": {},
   "outputs": [
    {
     "name": "stdout",
     "output_type": "stream",
     "text": [
      "24\n"
     ]
    }
   ],
   "source": [
    "y = np.array([100, 20, 34])\n",
    "print(y.nbytes)"
   ]
  },
  {
   "cell_type": "markdown",
   "metadata": {},
   "source": [
    "#### 5. How to get the documentation of the numpy add function from the command line? (★☆☆)"
   ]
  },
  {
   "cell_type": "code",
   "execution_count": 10,
   "metadata": {},
   "outputs": [
    {
     "ename": "SyntaxError",
     "evalue": "invalid syntax (<ipython-input-10-9b89d0187dec>, line 1)",
     "output_type": "error",
     "traceback": [
      "\u001b[0;36m  File \u001b[0;32m\"<ipython-input-10-9b89d0187dec>\"\u001b[0;36m, line \u001b[0;32m1\u001b[0m\n\u001b[0;31m    python -c\"import numpy; numpy.info(numpy.add)\"\u001b[0m\n\u001b[0m             ^\u001b[0m\n\u001b[0;31mSyntaxError\u001b[0m\u001b[0;31m:\u001b[0m invalid syntax\n"
     ]
    }
   ],
   "source": [
    "python -c\"import numpy; numpy.info(numpy.add)\""
   ]
  },
  {
   "cell_type": "markdown",
   "metadata": {},
   "source": [
    "#### 6. Create a null vector of size 10 but the fifth value which is 1 (★☆☆)"
   ]
  },
  {
   "cell_type": "code",
   "execution_count": 11,
   "metadata": {},
   "outputs": [
    {
     "data": {
      "text/plain": [
       "array([0., 0., 0., 0., 1., 0., 0., 0., 0., 0.])"
      ]
     },
     "execution_count": 11,
     "metadata": {},
     "output_type": "execute_result"
    }
   ],
   "source": [
    "x=np.zeros(10)\n",
    "x[4]=1\n",
    "x"
   ]
  },
  {
   "cell_type": "markdown",
   "metadata": {},
   "source": [
    "#### 7. Create a vector with values ranging from 10 to 49 (★☆☆)"
   ]
  },
  {
   "cell_type": "code",
   "execution_count": 12,
   "metadata": {},
   "outputs": [
    {
     "data": {
      "text/plain": [
       "array([10, 11, 12, 13, 14, 15, 16, 17, 18, 19, 20, 21, 22, 23, 24, 25, 26,\n",
       "       27, 28, 29, 30, 31, 32, 33, 34, 35, 36, 37, 38, 39, 40, 41, 42, 43,\n",
       "       44, 45, 46, 47, 48, 49])"
      ]
     },
     "execution_count": 12,
     "metadata": {},
     "output_type": "execute_result"
    }
   ],
   "source": [
    "x = np.arange(10, 50)\n",
    "x"
   ]
  },
  {
   "cell_type": "markdown",
   "metadata": {},
   "source": [
    "#### 8. Reverse a vector (first element becomes last) (★☆☆)"
   ]
  },
  {
   "cell_type": "code",
   "execution_count": 13,
   "metadata": {},
   "outputs": [
    {
     "data": {
      "text/plain": [
       "array([49, 48, 47, 46, 45, 44, 43, 42, 41, 40, 39, 38, 37, 36, 35, 34, 33,\n",
       "       32, 31, 30, 29, 28, 27, 26, 25, 24, 23, 22, 21, 20, 19, 18, 17, 16,\n",
       "       15, 14, 13, 12, 11, 10])"
      ]
     },
     "execution_count": 13,
     "metadata": {},
     "output_type": "execute_result"
    }
   ],
   "source": [
    "\n",
    "x=x[::-1]\n",
    "x"
   ]
  },
  {
   "cell_type": "markdown",
   "metadata": {},
   "source": [
    "#### 9. Create a 3x3 matrix with values ranging from 0 to 8 (★☆☆)"
   ]
  },
  {
   "cell_type": "code",
   "execution_count": 14,
   "metadata": {},
   "outputs": [
    {
     "data": {
      "text/plain": [
       "array([[0, 1, 2],\n",
       "       [3, 4, 5],\n",
       "       [6, 7, 8]])"
      ]
     },
     "execution_count": 14,
     "metadata": {},
     "output_type": "execute_result"
    }
   ],
   "source": [
    "x = np.arange(9).reshape(3,3)\n",
    "x"
   ]
  },
  {
   "cell_type": "markdown",
   "metadata": {},
   "source": [
    "#### 10. Find indices of non-zero elements from [1,2,0,0,4,0] (★☆☆)"
   ]
  },
  {
   "cell_type": "code",
   "execution_count": 15,
   "metadata": {},
   "outputs": [
    {
     "name": "stdout",
     "output_type": "stream",
     "text": [
      "(array([0, 1, 4]),)\n"
     ]
    }
   ],
   "source": [
    "a=np.array([1,2,0,0,4,0])\n",
    "print(np.where(a != 0))"
   ]
  },
  {
   "cell_type": "markdown",
   "metadata": {},
   "source": [
    "#### 11. Create a 3x3 identity matrix (★☆☆)"
   ]
  },
  {
   "cell_type": "code",
   "execution_count": 16,
   "metadata": {},
   "outputs": [
    {
     "data": {
      "text/plain": [
       "array([[1., 0., 0.],\n",
       "       [0., 1., 0.],\n",
       "       [0., 0., 1.]])"
      ]
     },
     "execution_count": 16,
     "metadata": {},
     "output_type": "execute_result"
    }
   ],
   "source": [
    "np.eye(3)"
   ]
  },
  {
   "cell_type": "markdown",
   "metadata": {},
   "source": [
    "#### 12. Create a 3x3x3 array with random values (★☆☆)"
   ]
  },
  {
   "cell_type": "code",
   "execution_count": 17,
   "metadata": {},
   "outputs": [
    {
     "data": {
      "text/plain": [
       "array([[[0.06215473, 0.56673654, 0.75498113],\n",
       "        [0.49246332, 0.89241822, 0.87119077],\n",
       "        [0.07975376, 0.55482313, 0.78995829]],\n",
       "\n",
       "       [[0.17346573, 0.61208781, 0.28050105],\n",
       "        [0.399448  , 0.88803808, 0.70912974],\n",
       "        [0.98864742, 0.95138328, 0.89841221]],\n",
       "\n",
       "       [[0.84391638, 0.95342613, 0.75754837],\n",
       "        [0.60359339, 0.16653871, 0.6611509 ],\n",
       "        [0.06718827, 0.57843042, 0.42459897]]])"
      ]
     },
     "execution_count": 17,
     "metadata": {},
     "output_type": "execute_result"
    }
   ],
   "source": [
    "np.random.random((3,3,3))"
   ]
  },
  {
   "cell_type": "markdown",
   "metadata": {},
   "source": [
    "#### 13. Create a 10x10 array with random values and find the minimum and maximum values (★☆☆)"
   ]
  },
  {
   "cell_type": "code",
   "execution_count": 18,
   "metadata": {},
   "outputs": [
    {
     "data": {
      "text/plain": [
       "array([[0.74980002, 0.40599149, 0.10794018, 0.91216298, 0.24498644,\n",
       "        0.88902377, 0.80490329, 0.58270982, 0.52056712, 0.91408283],\n",
       "       [0.1417211 , 0.77416193, 0.56126643, 0.89425012, 0.30531729,\n",
       "        0.43993707, 0.97814441, 0.74045778, 0.98227038, 0.15977065],\n",
       "       [0.19411271, 0.96017445, 0.63125107, 0.26379038, 0.85099653,\n",
       "        0.59900216, 0.34069477, 0.84278127, 0.54999196, 0.21328134],\n",
       "       [0.82926496, 0.88476646, 0.74454492, 0.88279676, 0.48037645,\n",
       "        0.92494111, 0.40634553, 0.61269547, 0.46711697, 0.94154835],\n",
       "       [0.76895426, 0.16289704, 0.37026279, 0.95651507, 0.85650321,\n",
       "        0.82453679, 0.85800735, 0.3903134 , 0.13384965, 0.23423685],\n",
       "       [0.31037793, 0.43080859, 0.15675463, 0.5493579 , 0.26985417,\n",
       "        0.69214725, 0.19154736, 0.51881929, 0.62109529, 0.14770808],\n",
       "       [0.02109741, 0.31483539, 0.95979078, 0.99357902, 0.77127261,\n",
       "        0.25247079, 0.69937012, 0.89844129, 0.9398816 , 0.65874752],\n",
       "       [0.94446841, 0.10198726, 0.46289401, 0.75842749, 0.15944556,\n",
       "        0.64116106, 0.60090095, 0.75725236, 0.80984786, 0.86193657],\n",
       "       [0.67685897, 0.73238489, 0.74132944, 0.51895794, 0.91384247,\n",
       "        0.64881837, 0.9569242 , 0.22935349, 0.05142814, 0.53114152],\n",
       "       [0.99458252, 0.85470264, 0.45426665, 0.79142875, 0.19643692,\n",
       "        0.83021333, 0.23309312, 0.31190823, 0.33157213, 0.88466842]])"
      ]
     },
     "execution_count": 18,
     "metadata": {},
     "output_type": "execute_result"
    }
   ],
   "source": [
    "arr=np.random.random((10,10))\n",
    "\n",
    "arr"
   ]
  },
  {
   "cell_type": "code",
   "execution_count": 19,
   "metadata": {},
   "outputs": [
    {
     "data": {
      "text/plain": [
       "0.021097413307934798"
      ]
     },
     "execution_count": 19,
     "metadata": {},
     "output_type": "execute_result"
    }
   ],
   "source": [
    "mi=arr.min()\n",
    "mi\n"
   ]
  },
  {
   "cell_type": "code",
   "execution_count": 20,
   "metadata": {},
   "outputs": [
    {
     "data": {
      "text/plain": [
       "0.9945825243265317"
      ]
     },
     "execution_count": 20,
     "metadata": {},
     "output_type": "execute_result"
    }
   ],
   "source": [
    "ma=arr.max()\n",
    "ma"
   ]
  },
  {
   "cell_type": "markdown",
   "metadata": {},
   "source": [
    "#### 14. Create a random vector of size 30 and find the mean value (★☆☆)"
   ]
  },
  {
   "cell_type": "code",
   "execution_count": 21,
   "metadata": {},
   "outputs": [
    {
     "data": {
      "text/plain": [
       "array([0.36122907, 0.76374946, 0.48504709, 0.5947124 , 0.88913358,\n",
       "       0.90001921, 0.00792231, 0.15200479, 0.08478211, 0.00266401])"
      ]
     },
     "execution_count": 21,
     "metadata": {},
     "output_type": "execute_result"
    }
   ],
   "source": [
    "v=arr=np.random.random((10))\n",
    "v\n"
   ]
  },
  {
   "cell_type": "code",
   "execution_count": 22,
   "metadata": {},
   "outputs": [
    {
     "data": {
      "text/plain": [
       "0.42412640264986046"
      ]
     },
     "execution_count": 22,
     "metadata": {},
     "output_type": "execute_result"
    }
   ],
   "source": [
    "ms=v.mean()\n",
    "ms"
   ]
  },
  {
   "cell_type": "markdown",
   "metadata": {},
   "source": [
    "#### 15. Create a 2d array with 1 on the border and 0 inside (★☆☆)"
   ]
  },
  {
   "cell_type": "code",
   "execution_count": 23,
   "metadata": {},
   "outputs": [
    {
     "data": {
      "text/plain": [
       "array([[1., 1., 1.],\n",
       "       [1., 0., 1.],\n",
       "       [1., 1., 1.]])"
      ]
     },
     "execution_count": 23,
     "metadata": {},
     "output_type": "execute_result"
    }
   ],
   "source": [
    "c=np.ones((3,3))\n",
    "\n",
    "c[1:-1, 1:-1]=0\n",
    "c"
   ]
  },
  {
   "cell_type": "markdown",
   "metadata": {},
   "source": [
    "#### 16. How to add a border (filled with 0's) around an existing array? (★☆☆)"
   ]
  },
  {
   "cell_type": "code",
   "execution_count": 24,
   "metadata": {},
   "outputs": [
    {
     "name": "stdout",
     "output_type": "stream",
     "text": [
      "[[0. 0. 0. 0. 0.]\n",
      " [0. 1. 1. 1. 0.]\n",
      " [0. 1. 0. 1. 0.]\n",
      " [0. 1. 1. 1. 0.]\n",
      " [0. 0. 0. 0. 0.]]\n"
     ]
    }
   ],
   "source": [
    "c = np.pad(c, pad_width=1, mode='constant', constant_values=0)\n",
    "print(c)"
   ]
  },
  {
   "cell_type": "markdown",
   "metadata": {},
   "source": [
    "#### 17. What is the result of the following expression? (★☆☆)\n",
    "```python\n",
    "0 * np.nan\n",
    "np.nan == np.nan\n",
    "np.inf > np.nan\n",
    "np.nan - np.nan\n",
    "np.nan in set([np.nan])\n",
    "0.3 == 3 * 0.1\n",
    "```"
   ]
  },
  {
   "cell_type": "code",
   "execution_count": 26,
   "metadata": {},
   "outputs": [
    {
     "ename": "NameError",
     "evalue": "name 'false' is not defined",
     "output_type": "error",
     "traceback": [
      "\u001b[0;31m---------------------------------------------------------------------------\u001b[0m",
      "\u001b[0;31mNameError\u001b[0m                                 Traceback (most recent call last)",
      "\u001b[0;32m<ipython-input-26-b73d74fcede9>\u001b[0m in \u001b[0;36m<module>\u001b[0;34m\u001b[0m\n\u001b[0;32m----> 1\u001b[0;31m \u001b[0mfalse\u001b[0m\u001b[0;34m\u001b[0m\u001b[0;34m\u001b[0m\u001b[0m\n\u001b[0m",
      "\u001b[0;31mNameError\u001b[0m: name 'false' is not defined"
     ]
    }
   ],
   "source": [
    "false"
   ]
  },
  {
   "cell_type": "markdown",
   "metadata": {},
   "source": [
    "#### 18. Create a 5x5 matrix with values 1,2,3,4 just below the diagonal (★☆☆)"
   ]
  },
  {
   "cell_type": "code",
   "execution_count": 27,
   "metadata": {},
   "outputs": [
    {
     "name": "stdout",
     "output_type": "stream",
     "text": [
      "[[0 0 0 0 0]\n",
      " [1 0 0 0 0]\n",
      " [0 2 0 0 0]\n",
      " [0 0 3 0 0]\n",
      " [0 0 0 4 0]]\n"
     ]
    }
   ],
   "source": [
    "Z = np.diag(1+np.arange(4), k = -1)\n",
    "print (Z)"
   ]
  },
  {
   "cell_type": "markdown",
   "metadata": {},
   "source": [
    "#### 19. Create a 8x8 matrix and fill it with a checkerboard pattern (★☆☆)"
   ]
  },
  {
   "cell_type": "code",
   "execution_count": 28,
   "metadata": {},
   "outputs": [
    {
     "name": "stdout",
     "output_type": "stream",
     "text": [
      "[[0. 0. 0. 0. 0. 0. 0. 0.]\n",
      " [0. 0. 0. 0. 0. 0. 0. 0.]\n",
      " [0. 0. 0. 0. 0. 0. 0. 0.]\n",
      " [0. 0. 0. 0. 0. 0. 0. 0.]\n",
      " [0. 0. 0. 0. 0. 0. 0. 0.]\n",
      " [0. 0. 0. 0. 0. 0. 0. 0.]\n",
      " [0. 0. 0. 0. 0. 0. 0. 0.]\n",
      " [0. 0. 0. 0. 0. 0. 0. 0.]]\n"
     ]
    },
    {
     "data": {
      "text/plain": [
       "array([[0., 1., 0., 1., 0., 1., 0., 1.],\n",
       "       [1., 0., 1., 0., 1., 0., 1., 0.],\n",
       "       [0., 1., 0., 1., 0., 1., 0., 1.],\n",
       "       [1., 0., 1., 0., 1., 0., 1., 0.],\n",
       "       [0., 1., 0., 1., 0., 1., 0., 1.],\n",
       "       [1., 0., 1., 0., 1., 0., 1., 0.],\n",
       "       [0., 1., 0., 1., 0., 1., 0., 1.],\n",
       "       [1., 0., 1., 0., 1., 0., 1., 0.]])"
      ]
     },
     "execution_count": 28,
     "metadata": {},
     "output_type": "execute_result"
    }
   ],
   "source": [
    "s=np.zeros((8,8))\n",
    "print(s)\n",
    "s[1::2,::2]=1\n",
    "s[::2,1::2]=1\n",
    "s"
   ]
  },
  {
   "cell_type": "markdown",
   "metadata": {},
   "source": [
    "#### 20. Consider a (6,7,8) shape array, what is the index (x,y,z) of the 100th element?"
   ]
  },
  {
   "cell_type": "code",
   "execution_count": 145,
   "metadata": {},
   "outputs": [
    {
     "name": "stdout",
     "output_type": "stream",
     "text": [
      "[[[  1   2   3   4   5   6   7   8]\n",
      "  [  9  10  11  12  13  14  15  16]\n",
      "  [ 17  18  19  20  21  22  23  24]\n",
      "  [ 25  26  27  28  29  30  31  32]\n",
      "  [ 33  34  35  36  37  38  39  40]\n",
      "  [ 41  42  43  44  45  46  47  48]\n",
      "  [ 49  50  51  52  53  54  55  56]]\n",
      "\n",
      " [[ 57  58  59  60  61  62  63  64]\n",
      "  [ 65  66  67  68  69  70  71  72]\n",
      "  [ 73  74  75  76  77  78  79  80]\n",
      "  [ 81  82  83  84  85  86  87  88]\n",
      "  [ 89  90  91  92  93  94  95  96]\n",
      "  [ 97  98  99 100 101 102 103 104]\n",
      "  [105 106 107 108 109 110 111 112]]\n",
      "\n",
      " [[113 114 115 116 117 118 119 120]\n",
      "  [121 122 123 124 125 126 127 128]\n",
      "  [129 130 131 132 133 134 135 136]\n",
      "  [137 138 139 140 141 142 143 144]\n",
      "  [145 146 147 148 149 150 151 152]\n",
      "  [153 154 155 156 157 158 159 160]\n",
      "  [161 162 163 164 165 166 167 168]]\n",
      "\n",
      " [[169 170 171 172 173 174 175 176]\n",
      "  [177 178 179 180 181 182 183 184]\n",
      "  [185 186 187 188 189 190 191 192]\n",
      "  [193 194 195 196 197 198 199 200]\n",
      "  [201 202 203 204 205 206 207 208]\n",
      "  [209 210 211 212 213 214 215 216]\n",
      "  [217 218 219 220 221 222 223 224]]\n",
      "\n",
      " [[225 226 227 228 229 230 231 232]\n",
      "  [233 234 235 236 237 238 239 240]\n",
      "  [241 242 243 244 245 246 247 248]\n",
      "  [249 250 251 252 253 254 255 256]\n",
      "  [257 258 259 260 261 262 263 264]\n",
      "  [265 266 267 268 269 270 271 272]\n",
      "  [273 274 275 276 277 278 279 280]]\n",
      "\n",
      " [[281 282 283 284 285 286 287 288]\n",
      "  [289 290 291 292 293 294 295 296]\n",
      "  [297 298 299 300 301 302 303 304]\n",
      "  [305 306 307 308 309 310 311 312]\n",
      "  [313 314 315 316 317 318 319 320]\n",
      "  [321 322 323 324 325 326 327 328]\n",
      "  [329 330 331 332 333 334 335 336]]]\n",
      "(1, 5, 4)\n"
     ]
    }
   ],
   "source": [
    "h = np.arange(1,337).reshape(6,7,8)\n",
    "print(h)\n",
    "print(np.unravel_index(100,(6,7,8)))\n"
   ]
  },
  {
   "cell_type": "markdown",
   "metadata": {},
   "source": [
    "#### 21. Create a checkerboard 8x8 matrix using the tile function (★☆☆)"
   ]
  },
  {
   "cell_type": "code",
   "execution_count": 36,
   "metadata": {
    "scrolled": true
   },
   "outputs": [
    {
     "data": {
      "text/plain": [
       "array([[0, 1, 0, 1, 0, 1, 0, 1],\n",
       "       [1, 0, 1, 0, 1, 0, 1, 0],\n",
       "       [0, 1, 0, 1, 0, 1, 0, 1],\n",
       "       [1, 0, 1, 0, 1, 0, 1, 0],\n",
       "       [0, 1, 0, 1, 0, 1, 0, 1],\n",
       "       [1, 0, 1, 0, 1, 0, 1, 0],\n",
       "       [0, 1, 0, 1, 0, 1, 0, 1],\n",
       "       [1, 0, 1, 0, 1, 0, 1, 0]])"
      ]
     },
     "execution_count": 36,
     "metadata": {},
     "output_type": "execute_result"
    }
   ],
   "source": [
    "t=np.tile(np.array([[0,1],[1,0]]),(4,4))\n",
    "t"
   ]
  },
  {
   "cell_type": "markdown",
   "metadata": {},
   "source": [
    "#### 22. Normalize a 5x5 random matrix (★☆☆)"
   ]
  },
  {
   "cell_type": "code",
   "execution_count": 46,
   "metadata": {},
   "outputs": [
    {
     "name": "stdout",
     "output_type": "stream",
     "text": [
      "Original Array:\n",
      "[[0.28552082 0.24947547 0.355288   0.99101629 0.49190961]\n",
      " [0.29912482 0.33299393 0.81589598 0.2950084  0.73137481]\n",
      " [0.23651171 0.5232173  0.94525098 0.72416812 0.55150757]\n",
      " [0.39232377 0.86927337 0.31278921 0.38872972 0.23866883]\n",
      " [0.49329957 0.87625032 0.19973549 0.25328427 0.07498677]]\n",
      "After normalization:\n",
      "[[0.22983326 0.19048371 0.30599584 1.         0.45514127]\n",
      " [0.24468431 0.28165813 0.80882678 0.24019054 0.71655774]\n",
      " [0.17633159 0.48931887 0.95003948 0.70869043 0.52020245]\n",
      " [0.34642661 0.86709716 0.25960128 0.3425031  0.17868644]\n",
      " [0.45665865 0.87471368 0.13618417 0.19464166 0.        ]]\n"
     ]
    }
   ],
   "source": [
    "x= np.random.random((5,5))\n",
    "print(\"Original Array:\")\n",
    "print(x)\n",
    "xmax, xmin = x.max(), x.min()\n",
    "\n",
    "x = (x - xmin)/(xmax - xmin)\n",
    "\n",
    "print(\"After normalization:\")\n",
    "print(x)\n"
   ]
  },
  {
   "cell_type": "markdown",
   "metadata": {},
   "source": [
    "#### 23. Create a custom dtype that describes a color as four unsigned bytes (RGBA) (★☆☆)"
   ]
  },
  {
   "cell_type": "code",
   "execution_count": 56,
   "metadata": {},
   "outputs": [
    {
     "name": "stdout",
     "output_type": "stream",
     "text": [
      "1\n"
     ]
    },
    {
     "data": {
      "text/plain": [
       "numpy.ndarray"
      ]
     },
     "execution_count": 56,
     "metadata": {},
     "output_type": "execute_result"
    }
   ],
   "source": [
    "RGBA = np.dtype([('red',np.uint8),('green',np.uint8),('blue',np.uint8),('alpha',np.uint8)])\n",
    "color = np.array((1,2,4,3),dtype = RGBA)\n",
    "print(color['red'])\n",
    "type(color)\n"
   ]
  },
  {
   "cell_type": "markdown",
   "metadata": {},
   "source": [
    "#### 24. Multiply a 5x3 matrix by a 3x2 matrix (real matrix product) (★☆☆)"
   ]
  },
  {
   "cell_type": "code",
   "execution_count": 71,
   "metadata": {},
   "outputs": [
    {
     "data": {
      "text/plain": [
       "array([[0.25036226, 0.66204437, 0.24004   ],\n",
       "       [0.53482065, 0.75967393, 0.62000842],\n",
       "       [0.97178255, 0.90681335, 0.21128771],\n",
       "       [0.28052189, 0.56792881, 0.58849884],\n",
       "       [0.48703316, 0.25316812, 0.04902138]])"
      ]
     },
     "execution_count": 71,
     "metadata": {},
     "output_type": "execute_result"
    }
   ],
   "source": [
    "A=np.random.random((5,3))\n",
    "A"
   ]
  },
  {
   "cell_type": "code",
   "execution_count": 72,
   "metadata": {},
   "outputs": [
    {
     "data": {
      "text/plain": [
       "array([[0.11634936, 0.459399  , 0.55732158],\n",
       "       [0.2930601 , 0.36730443, 0.84744086],\n",
       "       [0.98365374, 0.67989357, 0.32304581],\n",
       "       [0.39317463, 0.13408826, 0.47936634],\n",
       "       [0.62125209, 0.53856092, 0.73067916]])"
      ]
     },
     "execution_count": 72,
     "metadata": {},
     "output_type": "execute_result"
    }
   ],
   "source": [
    "A=np.random.random((5,3))\n",
    "A\n"
   ]
  },
  {
   "cell_type": "code",
   "execution_count": 73,
   "metadata": {},
   "outputs": [
    {
     "data": {
      "text/plain": [
       "array([[0.67299818, 0.44509824],\n",
       "       [0.72651715, 0.6159076 ],\n",
       "       [0.92617841, 1.018833  ],\n",
       "       [0.37636469, 0.46491936],\n",
       "       [0.89481662, 0.85986454]])"
      ]
     },
     "execution_count": 73,
     "metadata": {},
     "output_type": "execute_result"
    }
   ],
   "source": [
    "result = np.dot(A, B)\n",
    "result"
   ]
  },
  {
   "cell_type": "markdown",
   "metadata": {},
   "source": [
    "#### 25. Given a 1D array, negate all elements which are between 3 and 8, in place. (★☆☆)"
   ]
  },
  {
   "cell_type": "code",
   "execution_count": 80,
   "metadata": {},
   "outputs": [
    {
     "data": {
      "text/plain": [
       "array([ 0,  1,  2, -3, -4, -5, -6, -7, -8,  9])"
      ]
     },
     "execution_count": 80,
     "metadata": {},
     "output_type": "execute_result"
    }
   ],
   "source": [
    "c = np.arange(10)\n",
    "c[3:9]=np.dot(c[3:9],-1)\n",
    "c"
   ]
  },
  {
   "cell_type": "markdown",
   "metadata": {},
   "source": [
    "#### 26. What is the output of the following script? (★☆☆)\n",
    "```python\n",
    "# Author: Jake VanderPlas\n",
    "\n",
    "print(sum(range(5),-1))\n",
    "from numpy import *\n",
    "print(sum(range(5),-1))\n",
    "```"
   ]
  },
  {
   "cell_type": "code",
   "execution_count": null,
   "metadata": {},
   "outputs": [],
   "source": [
    "#the output is 10\n",
    "#from numpy import *\n",
    "#print(sum(range(5),-1)) here -1 is the axis"
   ]
  },
  {
   "cell_type": "markdown",
   "metadata": {},
   "source": [
    "#### 27. Consider an integer vector Z, which of these expressions are legal? (★☆☆)\n",
    "```python\n",
    "Z**Z\n",
    "2 << Z >> 2\n",
    "Z <- Z\n",
    "1j*Z\n",
    "Z/1/1\n",
    "Z<Z>Z\n",
    "```"
   ]
  },
  {
   "cell_type": "code",
   "execution_count": 94,
   "metadata": {
    "scrolled": true
   },
   "outputs": [
    {
     "name": "stdout",
     "output_type": "stream",
     "text": [
      "[5 6 9]\n"
     ]
    },
    {
     "ename": "ValueError",
     "evalue": "The truth value of an array with more than one element is ambiguous. Use a.any() or a.all()",
     "output_type": "error",
     "traceback": [
      "\u001b[0;31m---------------------------------------------------------------------------\u001b[0m",
      "\u001b[0;31mValueError\u001b[0m                                Traceback (most recent call last)",
      "\u001b[0;32m<ipython-input-94-f2d728bf9d34>\u001b[0m in \u001b[0;36m<module>\u001b[0;34m\u001b[0m\n\u001b[1;32m      2\u001b[0m \u001b[0mZ\u001b[0m \u001b[0;34m=\u001b[0m \u001b[0mnp\u001b[0m\u001b[0;34m.\u001b[0m\u001b[0marray\u001b[0m\u001b[0;34m(\u001b[0m\u001b[0mlist1\u001b[0m\u001b[0;34m)\u001b[0m\u001b[0;34m\u001b[0m\u001b[0;34m\u001b[0m\u001b[0m\n\u001b[1;32m      3\u001b[0m \u001b[0mprint\u001b[0m\u001b[0;34m(\u001b[0m\u001b[0mZ\u001b[0m\u001b[0;34m)\u001b[0m\u001b[0;34m\u001b[0m\u001b[0;34m\u001b[0m\u001b[0m\n\u001b[0;32m----> 4\u001b[0;31m \u001b[0mZ\u001b[0m\u001b[0;34m<\u001b[0m\u001b[0mZ\u001b[0m\u001b[0;34m>\u001b[0m\u001b[0mZ\u001b[0m\u001b[0;34m\u001b[0m\u001b[0;34m\u001b[0m\u001b[0m\n\u001b[0m\u001b[1;32m      5\u001b[0m \u001b[0;34m\u001b[0m\u001b[0m\n\u001b[1;32m      6\u001b[0m \u001b[0;34m\u001b[0m\u001b[0m\n",
      "\u001b[0;31mValueError\u001b[0m: The truth value of an array with more than one element is ambiguous. Use a.any() or a.all()"
     ]
    }
   ],
   "source": [
    "# list1 = [5, 6, 9]\n",
    "# Z = np.array(list1)\n",
    "# print(Z)\n",
    "# legal:\n",
    "# Z**Z\n",
    "# 2 << Z >> 2\n",
    "# Z <- Z\n",
    "# 1j*Z\n",
    "# Z/1/1\n",
    "# not legal\n",
    "# Z<Z>Z\n"
   ]
  },
  {
   "cell_type": "markdown",
   "metadata": {},
   "source": [
    "#### 28. What are the result of the following expressions?\n",
    "```python\n",
    "np.array(0) / np.array(0)\n",
    "np.array(0) // np.array(0)\n",
    "np.array([np.nan]).astype(int).astype(float)\n",
    "```"
   ]
  },
  {
   "cell_type": "code",
   "execution_count": 158,
   "metadata": {},
   "outputs": [
    {
     "name": "stdout",
     "output_type": "stream",
     "text": [
      "[0.5 1.  2. ]\n",
      "[0 1 2]\n",
      "nan\n",
      "0\n",
      "[-9.22337204e+18]\n"
     ]
    },
    {
     "name": "stderr",
     "output_type": "stream",
     "text": [
      "<ipython-input-158-26f1bdaf9450>:5: RuntimeWarning: invalid value encountered in true_divide\n",
      "  print(np.array(0) / np.array(0))\n",
      "<ipython-input-158-26f1bdaf9450>:6: RuntimeWarning: divide by zero encountered in floor_divide\n",
      "  print(np.array(0) // np.array(0))\n"
     ]
    }
   ],
   "source": [
    "# print(np.array([1,2,4]) / np.array([2,2,2]))\n",
    "# print(np.array([1,2,4]) // np.array([2,2,2]))\n",
    "\n",
    "\n",
    "print(np.array(0) / np.array(0))\n",
    "print(np.array(0) // np.array(0))\n",
    "print(np.array([np.nan]).astype(int).astype(float))"
   ]
  },
  {
   "cell_type": "markdown",
   "metadata": {},
   "source": [
    "#### 29. How to round away from zero a float array ? (★☆☆)"
   ]
  },
  {
   "cell_type": "code",
   "execution_count": 102,
   "metadata": {},
   "outputs": [
    {
     "name": "stdout",
     "output_type": "stream",
     "text": [
      "[32. 52.  0.]\n"
     ]
    }
   ],
   "source": [
    "def round_array(x,y):\n",
    "    return np.round(x,y)\n",
    "test = np.array([32.11, 51.5, 0.112])\n",
    "print(round_array(test,0))"
   ]
  },
  {
   "cell_type": "markdown",
   "metadata": {},
   "source": [
    "#### 30. How to find common values between two arrays? (★☆☆)"
   ]
  },
  {
   "cell_type": "code",
   "execution_count": 116,
   "metadata": {},
   "outputs": [
    {
     "name": "stdout",
     "output_type": "stream",
     "text": [
      "[1 4]\n"
     ]
    }
   ],
   "source": [
    "array1=np.array([1,2,3,4,5])\n",
    "array2=np.array([1,4,7,8,6])\n",
    "print(np.intersect1d(array1, array2))\n"
   ]
  }
 ],
 "metadata": {
  "kernelspec": {
   "display_name": "Python 3",
   "language": "python",
   "name": "python3"
  },
  "language_info": {
   "codemirror_mode": {
    "name": "ipython",
    "version": 3
   },
   "file_extension": ".py",
   "mimetype": "text/x-python",
   "name": "python",
   "nbconvert_exporter": "python",
   "pygments_lexer": "ipython3",
   "version": "3.8.10"
  },
  "toc": {
   "base_numbering": 1,
   "nav_menu": {},
   "number_sections": true,
   "sideBar": true,
   "skip_h1_title": false,
   "title_cell": "Table of Contents",
   "title_sidebar": "Contents",
   "toc_cell": false,
   "toc_position": {},
   "toc_section_display": true,
   "toc_window_display": false
  }
 },
 "nbformat": 4,
 "nbformat_minor": 2
}
