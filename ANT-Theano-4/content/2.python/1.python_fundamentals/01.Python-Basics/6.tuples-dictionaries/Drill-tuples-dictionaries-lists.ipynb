{
 "cells": [
  {
   "cell_type": "markdown",
   "metadata": {},
   "source": [
    "# Drill : Lists, Tuples, Dictionaries"
   ]
  },
  {
   "cell_type": "markdown",
   "metadata": {},
   "source": [
    "### 1. Choose 5 words from the English language and create  dictionaries that associates each of these words with its French translation."
   ]
  },
  {
   "cell_type": "code",
   "execution_count": 1,
   "metadata": {},
   "outputs": [],
   "source": [
    "dict1 = {'book':'livre', 'dictionary':'dictionnaire','pen':'stylo', 'pencil':'crayon', 'keyboard':'clavier'}"
   ]
  },
  {
   "cell_type": "markdown",
   "metadata": {},
   "source": [
    "### 2. Add an entry to the dictionary of the previous question (a new word and its definition)."
   ]
  },
  {
   "cell_type": "code",
   "execution_count": 2,
   "metadata": {},
   "outputs": [
    {
     "name": "stdout",
     "output_type": "stream",
     "text": [
      "{'book': 'livre', 'dictionary': 'dictionnaire', 'pen': 'stylo', 'pencil': 'crayon', 'keyboard': 'clavier', 'door': 'porte'}\n"
     ]
    }
   ],
   "source": [
    "dict1['door']='porte'\n",
    "print(dict1)"
   ]
  },
  {
   "cell_type": "markdown",
   "metadata": {},
   "source": [
    "### 3. How would you cut the following string at each space and put it in a list?"
   ]
  },
  {
   "cell_type": "code",
   "execution_count": 5,
   "metadata": {},
   "outputs": [
    {
     "name": "stdout",
     "output_type": "stream",
     "text": [
      "['I', 'am', 'the', 'master', 'of', 'the', 'world']\n"
     ]
    }
   ],
   "source": [
    "sentence = \"I am the master of the world\"\n",
    "split_list=sentence.split()\n",
    "print(split_list)\n"
   ]
  },
  {
   "cell_type": "markdown",
   "metadata": {},
   "source": [
    "### 4. Transform this string \"The_universal_number_is_42\" by removing the underscores: \"The universal number is 42\""
   ]
  },
  {
   "cell_type": "code",
   "execution_count": 7,
   "metadata": {},
   "outputs": [
    {
     "name": "stdout",
     "output_type": "stream",
     "text": [
      "The universal number is 42\n"
     ]
    }
   ],
   "source": [
    "universal_number = \"The_universal_number_is_42\"\n",
    "print(universal_number.replace('_',\" \"))\n"
   ]
  },
  {
   "cell_type": "markdown",
   "metadata": {},
   "source": [
    "### 5. Display only values of this dictionary."
   ]
  },
  {
   "cell_type": "code",
   "execution_count": 8,
   "metadata": {},
   "outputs": [
    {
     "name": "stdout",
     "output_type": "stream",
     "text": [
      "dict_values(['Clark Kent', 'Bruce Wayne', 'Tony Parker'])\n"
     ]
    }
   ],
   "source": [
    "heroes = {\"Superman\": \"Clark Kent\", \"Batman\": \"Bruce Wayne\", \"Spiderman\": \"Tony Parker\"}\n",
    "print(heroes.values())"
   ]
  },
  {
   "cell_type": "markdown",
   "metadata": {},
   "source": [
    "### 6. Display only keys of this dictionary."
   ]
  },
  {
   "cell_type": "code",
   "execution_count": 10,
   "metadata": {},
   "outputs": [
    {
     "name": "stdout",
     "output_type": "stream",
     "text": [
      "dict_keys(['Superman', 'Batman', 'Spiderman'])\n"
     ]
    }
   ],
   "source": [
    "heroes = {\"Superman\": \"Clark Kent\", \"Batman\": \"Bruce Wayne\", \"Spiderman\": \"Tony Parker\"}\n",
    "print(heroes.keys())"
   ]
  },
  {
   "cell_type": "markdown",
   "metadata": {},
   "source": [
    "### 7. Replace the value of  \"Spiderman\" by \"Peter Parker\"."
   ]
  },
  {
   "cell_type": "code",
   "execution_count": 11,
   "metadata": {},
   "outputs": [
    {
     "name": "stdout",
     "output_type": "stream",
     "text": [
      "{'Superman': 'Clark Kent', 'Batman': 'Bruce Wayne', 'Spiderman': 'Peter Parker'}\n"
     ]
    }
   ],
   "source": [
    "heroes = {\"Superman\": \"Clark Kent\", \"Batman\": \"Bruce Wayne\", \"Spiderman\": \"Tony Parker\"}\n",
    "heroes['Spiderman']='Peter Parker'\n",
    "print(heroes)"
   ]
  },
  {
   "cell_type": "markdown",
   "metadata": {},
   "source": [
    "### 8. Create a dictionary to build the price base of the products corresponding to the following table.\n",
    "\n",
    "    Laser sword // 229.0\n",
    "    Mitendo DX // 127.30\n",
    "    Linux cushion // 74.50\n",
    "    Goldorak briefs // 29.90\n",
    "    Nextpresso station // 184.60"
   ]
  },
  {
   "cell_type": "code",
   "execution_count": 12,
   "metadata": {},
   "outputs": [],
   "source": [
    "dict2 = {'Laser sword':229.0, 'Mitendo DX':127.30, 'Linux cushion':74.50, 'Goldorak briefs':29.90, 'Nextpresso station':184.60}\n"
   ]
  },
  {
   "cell_type": "markdown",
   "metadata": {},
   "source": [
    "### 9. Calculate the total price of the items of the dictionary."
   ]
  },
  {
   "cell_type": "code",
   "execution_count": 15,
   "metadata": {},
   "outputs": [
    {
     "name": "stdout",
     "output_type": "stream",
     "text": [
      "dict_values([229.0, 127.3, 74.5, 29.9, 184.6])\n",
      "645.3\n"
     ]
    }
   ],
   "source": [
    "prices=dict2.values()\n",
    "print(prices)\n",
    "result=sum(prices)\n",
    "print(result)"
   ]
  },
  {
   "cell_type": "markdown",
   "metadata": {},
   "source": [
    "### 10. Remove one of the articles from the dictionary."
   ]
  },
  {
   "cell_type": "code",
   "execution_count": 17,
   "metadata": {},
   "outputs": [
    {
     "name": "stdout",
     "output_type": "stream",
     "text": [
      "{'Mitendo DX': 127.3, 'Linux cushion': 74.5, 'Goldorak briefs': 29.9, 'Nextpresso station': 184.6}\n"
     ]
    }
   ],
   "source": [
    "dict2.pop('Laser sword')\n",
    "print(dict2)"
   ]
  },
  {
   "cell_type": "markdown",
   "metadata": {},
   "source": [
    "## [Next one](../7.loops-and-iterations/loops-and-iterations.ipynb)"
   ]
  }
 ],
 "metadata": {
  "kernelspec": {
   "display_name": "Python 3",
   "language": "python",
   "name": "python3"
  },
  "language_info": {
   "codemirror_mode": {
    "name": "ipython",
    "version": 3
   },
   "file_extension": ".py",
   "mimetype": "text/x-python",
   "name": "python",
   "nbconvert_exporter": "python",
   "pygments_lexer": "ipython3",
   "version": "3.8.10"
  }
 },
 "nbformat": 4,
 "nbformat_minor": 2
}
