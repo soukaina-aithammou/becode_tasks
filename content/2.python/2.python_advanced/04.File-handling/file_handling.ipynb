{
 "cells": [
  {
   "cell_type": "markdown",
   "metadata": {},
   "source": [
    "# Read and write files"
   ]
  },
  {
   "cell_type": "markdown",
   "metadata": {},
   "source": [
    "We have made good progress and now we can get down to the more serious task of manipulating files. This is one of the very important points concerning this training. \n",
    "\n",
    "\n",
    "N.B: Most of the files in `./data/` are files that we will use to understand how file opening works. They don't have a special purpose other than that. "
   ]
  },
  {
   "cell_type": "markdown",
   "metadata": {},
   "source": [
    "To open/edit a file in python we use the `open()` function.\n",
    "\n",
    "This function takes as first parameter the path of the file (*relative* or *absolute*) and as second parameter the type of opening, i.e. reading or writing mode.\n",
    "\n",
    "*A relative path in computing is a path that takes into account the current location.*\n",
    "The path is **relative** to where it is called from.\n",
    "\n",
    "*An absolute path is a complete path that can be read regardless of the reading location.*\n",
    "\n"
   ]
  },
  {
   "cell_type": "code",
   "execution_count": 2,
   "metadata": {},
   "outputs": [],
   "source": [
    "filename = \"./data/data.txt\"\n",
    "my_file = open(filename, \"r\")  # r for \"read\""
   ]
  },
  {
   "cell_type": "markdown",
   "metadata": {},
   "source": [
    "- `\"r\"`, for a read opening (READ).\n",
    "\n",
    "- `\"w\"`, for a write opening (WRITE), each time the file is opened, the content of the file is overwritten. If the file does not exist, Python creates it. \n",
    "\n",
    "    *The Python docs say that `w+` will \"overwrite the existing file if the file exists\". So as soon as you open a file with `w+`, it is now an empty file: it contains 0 bytes. If it used to contain data, that data has been truncated — cut off and thrown away — and now the file size is 0 bytes, so you can't read any of the data that existed before you opened the file with `w+`. If you actually wanted to read the previous data and add to it, you should use `r+` instead of `w+`* [[Source]](https://stackoverflow.com/questions/16208206/confused-by-python-file-mode-w#comment83227862_16208298)\n",
    "    \n",
    "    \n",
    "\n",
    "- `\"a\"`, for an opening in add mode at the end of the file (APPEND). If the file does not exist, Python creates it.\n",
    "\n",
    "- `\"x\"`, creates a new file and opens it for writing\n",
    "\n",
    "You can also append the character `+` and `b` to nearly all of the above commands. [[More info here]](https://stackabuse.com/file-handling-in-python/)"
   ]
  },
  {
   "cell_type": "markdown",
   "metadata": {},
   "source": [
    "Like any open element, it must be closed again once the instructions have been completed. To do this, we use the `close()` method."
   ]
  },
  {
   "cell_type": "code",
   "execution_count": 3,
   "metadata": {},
   "outputs": [],
   "source": [
    "my_file.close()"
   ]
  },
  {
   "cell_type": "code",
   "execution_count": 4,
   "metadata": {},
   "outputs": [
    {
     "name": "stdout",
     "output_type": "stream",
     "text": [
      "Hi everyone, I'm adding sentences to the file !\n"
     ]
    }
   ],
   "source": [
    "# Let's find out what's going on there\n",
    "my_file = open(filename, \"r\")\n",
    "print(my_file.read())\n",
    "my_file.close()"
   ]
  },
  {
   "cell_type": "markdown",
   "metadata": {},
   "source": [
    "Another possibility of opening without closing. That's a **best practice** and you should use that as much as you can."
   ]
  },
  {
   "cell_type": "code",
   "execution_count": 5,
   "metadata": {},
   "outputs": [
    {
     "name": "stdout",
     "output_type": "stream",
     "text": [
      "Hi everyone, I'm adding sentences to the file !\n"
     ]
    }
   ],
   "source": [
    "with open(filename, \"r\") as my_file:\n",
    "    print(my_file.read())"
   ]
  },
  {
   "cell_type": "markdown",
   "metadata": {},
   "source": [
    "**Can you put the contents of this file in the form of a list in which each element is a sentence ?**\n",
    "*(Use `.split()` for example...)*"
   ]
  },
  {
   "cell_type": "code",
   "execution_count": 6,
   "metadata": {},
   "outputs": [
    {
     "name": "stdout",
     "output_type": "stream",
     "text": [
      "The file content are:  Hi everyone, I'm adding sentences to the file !\n",
      "The list is:  ['Hi everyone', \" I'm adding sentences to the file !\"]\n"
     ]
    }
   ],
   "source": [
    "# YOUR CODE HERE\n",
    "txt_file = open(\"./data/data.txt\", \"r\")\n",
    "file_content = txt_file.read()\n",
    "print(\"The file content are: \", file_content)\n",
    "\n",
    "content_list = file_content.split(\",\")\n",
    "txt_file.close()\n",
    "print(\"The list is: \", content_list)"
   ]
  },
  {
   "cell_type": "markdown",
   "metadata": {},
   "source": [
    "To write in a file, just open a file (existing or not), write in it and close it. We open it in mode `\"w\"` so that the previous data is deleted and new data can be added."
   ]
  },
  {
   "cell_type": "code",
   "execution_count": 7,
   "metadata": {},
   "outputs": [
    {
     "name": "stdout",
     "output_type": "stream",
     "text": [
      "[\"Hi everyone, I'm adding sentences to the file !\"]\n",
      "./data/data.txt\n"
     ]
    }
   ],
   "source": [
    "new_file =\"./data/soukaina.txt\"\n",
    "file = open(new_file, \"w\") \n",
    "file.write(\"Hi everyone, I'm adding sentences to the file !\")\n",
    "file.close()\n",
    "\n",
    "file=open(new_file,\"r\")\n",
    "print(file.readlines())\n",
    "file.close()\n",
    "\n",
    "print(filename)\n"
   ]
  },
  {
   "cell_type": "markdown",
   "metadata": {},
   "source": [
    "Can you take the content of the `data.txt` file from the `.data/` directory, capitalize all the words and write them in the file that you created just before, after the sentences you added?\n"
   ]
  },
  {
   "cell_type": "code",
   "execution_count": 8,
   "metadata": {},
   "outputs": [
    {
     "name": "stdout",
     "output_type": "stream",
     "text": [
      "\n"
     ]
    }
   ],
   "source": [
    "with open(filename,\"r\") as input_file, open(new_file,\"a+\") as output_file:\n",
    "    lines=input_file.readlines()\n",
    "    for each_line in lines:\n",
    "        output_file.write(each_line.upper())\n",
    "        \n",
    "    print(output_file.read())   \n"
   ]
  },
  {
   "cell_type": "markdown",
   "metadata": {},
   "source": [
    "## Management of directory paths..."
   ]
  },
  {
   "cell_type": "markdown",
   "metadata": {},
   "source": [
    "The `os` module is a library that provides a portable way of using operating system dependent functionality.\n",
    "In this chapter, we are interested in using its powerful file path handling capabilities using `os.path`."
   ]
  },
  {
   "cell_type": "code",
   "execution_count": 9,
   "metadata": {},
   "outputs": [],
   "source": [
    "import os"
   ]
  },
  {
   "cell_type": "markdown",
   "metadata": {},
   "source": [
    "Each file or folder is associated with a kind of address that makes it easy to find it without errors. It is not possible to have a file with an identical name as another inside the same folder (except if the file extension is different).\n",
    "\n",
    "As said before, there are two kinds of paths: the absolute path from the root of your file system and the relative path from the folder being read."
   ]
  },
  {
   "cell_type": "markdown",
   "metadata": {},
   "source": [
    "By using `help` function, we can see the available methods."
   ]
  },
  {
   "cell_type": "code",
   "execution_count": 10,
   "metadata": {},
   "outputs": [
    {
     "name": "stdout",
     "output_type": "stream",
     "text": [
      "Help on module posixpath:\n",
      "\n",
      "NAME\n",
      "    posixpath - Common operations on Posix pathnames.\n",
      "\n",
      "MODULE REFERENCE\n",
      "    https://docs.python.org/3.8/library/posixpath\n",
      "    \n",
      "    The following documentation is automatically generated from the Python\n",
      "    source files.  It may be incomplete, incorrect or include features that\n",
      "    are considered implementation detail and may vary between Python\n",
      "    implementations.  When in doubt, consult the module reference at the\n",
      "    location listed above.\n",
      "\n",
      "DESCRIPTION\n",
      "    Instead of importing this module directly, import os and refer to\n",
      "    this module as os.path.  The \"os.path\" name is an alias for this\n",
      "    module on Posix systems; on other systems (e.g. Windows),\n",
      "    os.path provides the same operations in a manner specific to that\n",
      "    platform, and is an alias to another module (e.g. ntpath).\n",
      "    \n",
      "    Some of this can actually be useful on non-Posix systems too, e.g.\n",
      "    for manipulation of the pathname component of URLs.\n",
      "\n",
      "FUNCTIONS\n",
      "    abspath(path)\n",
      "        Return an absolute path.\n",
      "    \n",
      "    basename(p)\n",
      "        Returns the final component of a pathname\n",
      "    \n",
      "    commonpath(paths)\n",
      "        Given a sequence of path names, returns the longest common sub-path.\n",
      "    \n",
      "    commonprefix(m)\n",
      "        Given a list of pathnames, returns the longest common leading component\n",
      "    \n",
      "    dirname(p)\n",
      "        Returns the directory component of a pathname\n",
      "    \n",
      "    exists(path)\n",
      "        Test whether a path exists.  Returns False for broken symbolic links\n",
      "    \n",
      "    expanduser(path)\n",
      "        Expand ~ and ~user constructions.  If user or $HOME is unknown,\n",
      "        do nothing.\n",
      "    \n",
      "    expandvars(path)\n",
      "        Expand shell variables of form $var and ${var}.  Unknown variables\n",
      "        are left unchanged.\n",
      "    \n",
      "    getatime(filename)\n",
      "        Return the last access time of a file, reported by os.stat().\n",
      "    \n",
      "    getctime(filename)\n",
      "        Return the metadata change time of a file, reported by os.stat().\n",
      "    \n",
      "    getmtime(filename)\n",
      "        Return the last modification time of a file, reported by os.stat().\n",
      "    \n",
      "    getsize(filename)\n",
      "        Return the size of a file, reported by os.stat().\n",
      "    \n",
      "    isabs(s)\n",
      "        Test whether a path is absolute\n",
      "    \n",
      "    isdir(s)\n",
      "        Return true if the pathname refers to an existing directory.\n",
      "    \n",
      "    isfile(path)\n",
      "        Test whether a path is a regular file\n",
      "    \n",
      "    islink(path)\n",
      "        Test whether a path is a symbolic link\n",
      "    \n",
      "    ismount(path)\n",
      "        Test whether a path is a mount point\n",
      "    \n",
      "    join(a, *p)\n",
      "        Join two or more pathname components, inserting '/' as needed.\n",
      "        If any component is an absolute path, all previous path components\n",
      "        will be discarded.  An empty last part will result in a path that\n",
      "        ends with a separator.\n",
      "    \n",
      "    lexists(path)\n",
      "        Test whether a path exists.  Returns True for broken symbolic links\n",
      "    \n",
      "    normcase(s)\n",
      "        Normalize case of pathname.  Has no effect under Posix\n",
      "    \n",
      "    normpath(path)\n",
      "        Normalize path, eliminating double slashes, etc.\n",
      "    \n",
      "    realpath(filename)\n",
      "        Return the canonical path of the specified filename, eliminating any\n",
      "        symbolic links encountered in the path.\n",
      "    \n",
      "    relpath(path, start=None)\n",
      "        Return a relative version of a path\n",
      "    \n",
      "    samefile(f1, f2)\n",
      "        Test whether two pathnames reference the same actual file or directory\n",
      "        \n",
      "        This is determined by the device number and i-node number and\n",
      "        raises an exception if an os.stat() call on either pathname fails.\n",
      "    \n",
      "    sameopenfile(fp1, fp2)\n",
      "        Test whether two open file objects reference the same file\n",
      "    \n",
      "    samestat(s1, s2)\n",
      "        Test whether two stat buffers reference the same file\n",
      "    \n",
      "    split(p)\n",
      "        Split a pathname.  Returns tuple \"(head, tail)\" where \"tail\" is\n",
      "        everything after the final slash.  Either part may be empty.\n",
      "    \n",
      "    splitdrive(p)\n",
      "        Split a pathname into drive and path. On Posix, drive is always\n",
      "        empty.\n",
      "    \n",
      "    splitext(p)\n",
      "        Split the extension from a pathname.\n",
      "        \n",
      "        Extension is everything from the last dot to the end, ignoring\n",
      "        leading dots.  Returns \"(root, ext)\"; ext may be empty.\n",
      "\n",
      "DATA\n",
      "    __all__ = ['normcase', 'isabs', 'join', 'splitdrive', 'split', 'splite...\n",
      "    altsep = None\n",
      "    curdir = '.'\n",
      "    defpath = '/bin:/usr/bin'\n",
      "    devnull = '/dev/null'\n",
      "    extsep = '.'\n",
      "    pardir = '..'\n",
      "    pathsep = ':'\n",
      "    sep = '/'\n",
      "    supports_unicode_filenames = False\n",
      "\n",
      "FILE\n",
      "    /usr/lib/python3.8/posixpath.py\n",
      "\n",
      "\n"
     ]
    }
   ],
   "source": [
    "help(os.path)"
   ]
  },
  {
   "cell_type": "markdown",
   "metadata": {},
   "source": [
    "To know your current absolute path, use `abspath('')`"
   ]
  },
  {
   "cell_type": "code",
   "execution_count": 11,
   "metadata": {},
   "outputs": [
    {
     "name": "stdout",
     "output_type": "stream",
     "text": [
      "/home/soukaina/Desktop/becode_course/ANT-Theano-4/content/2.python/2.python_advanced/04.File-handling\n",
      "<class 'str'>\n"
     ]
    }
   ],
   "source": [
    "# In Python a path is a string, so there are methods to manipulate it.\n",
    "path = os.path.abspath(\"\")\n",
    "print(path)\n",
    "print(type(path))"
   ]
  },
  {
   "cell_type": "markdown",
   "metadata": {},
   "source": [
    " To know the part of the path that consists of directories, use `dirname(path)`."
   ]
  },
  {
   "cell_type": "code",
   "execution_count": 12,
   "metadata": {},
   "outputs": [
    {
     "data": {
      "text/plain": [
       "'/home/soukaina/Desktop/becode_course/ANT-Theano-4/content/2.python/2.python_advanced'"
      ]
     },
     "execution_count": 12,
     "metadata": {},
     "output_type": "execute_result"
    }
   ],
   "source": [
    "os.path.dirname(path)"
   ]
  },
  {
   "cell_type": "markdown",
   "metadata": {},
   "source": [
    "To only get the filename, use `basename(path)`."
   ]
  },
  {
   "cell_type": "code",
   "execution_count": 13,
   "metadata": {},
   "outputs": [
    {
     "data": {
      "text/plain": [
       "'04.File-handling'"
      ]
     },
     "execution_count": 13,
     "metadata": {},
     "output_type": "execute_result"
    }
   ],
   "source": [
    "os.path.basename(path)"
   ]
  },
  {
   "cell_type": "markdown",
   "metadata": {},
   "source": [
    "To add a directory, let's say `\"text\"` to the path, we use `join()`. \n",
    "\n",
    "The cool thing is that it is compatible across operating systems. Meaning that on Windows it will automatically add `\\` between the arguments of `os.path.join`, and on Linux it will add `/`. The same code thus works on every operating system!"
   ]
  },
  {
   "cell_type": "code",
   "execution_count": 14,
   "metadata": {},
   "outputs": [
    {
     "name": "stdout",
     "output_type": "stream",
     "text": [
      "/home/soukaina/Desktop/becode_course/ANT-Theano-4/content/2.python/2.python_advanced/04.File-handling/text\n"
     ]
    }
   ],
   "source": [
    "rep_text = os.path.join(path, \"text\")\n",
    "print(rep_text)"
   ]
  },
  {
   "cell_type": "markdown",
   "metadata": {},
   "source": [
    "To retrieve all the elements of a folder as a list, you can use the `listdir()` method."
   ]
  },
  {
   "cell_type": "code",
   "execution_count": 15,
   "metadata": {},
   "outputs": [
    {
     "data": {
      "text/plain": [
       "['09.Good_practices',\n",
       " '05.Scraping',\n",
       " '02.Exception-handling',\n",
       " 'Untitled.ipynb',\n",
       " '03.Regex',\n",
       " '08.Typing',\n",
       " '01.OOP',\n",
       " '.ipynb_checkpoints',\n",
       " '10.Data-structure',\n",
       " '04.File-handling',\n",
       " '11.unittest',\n",
       " '06.Concurrency',\n",
       " '07.Decorator']"
      ]
     },
     "execution_count": 15,
     "metadata": {},
     "output_type": "execute_result"
    }
   ],
   "source": [
    "# Items are returned as a list and includes folders and hidden files.\n",
    "os.listdir(\"../\")"
   ]
  },
  {
   "cell_type": "markdown",
   "metadata": {},
   "source": [
    "### How to display all the elements of a folder as well as its child folders? \n",
    "\n",
    "With the `walk()` function:\n",
    "\n",
    "```\n",
    "walk(top, topdown=True, onerror=None, followlinks=False)\n",
    "```\n"
   ]
  },
  {
   "cell_type": "code",
   "execution_count": 16,
   "metadata": {},
   "outputs": [
    {
     "name": "stdout",
     "output_type": "stream",
     "text": [
      "/home/soukaina/Desktop/becode_course/ANT-Theano-4/content/2.python/2.python_advanced/04.File-handling\n",
      "file_handling.ipynb\n",
      "final.txt\n",
      "data.txt\n",
      "L'équipe,du sport en continu..html\n",
      "soukaina.txt\n",
      "VOEUX74.txt\n",
      "VOEUX79.txt\n",
      "VOEUX08.txt\n",
      "VOEUX09.txt\n",
      "mail.txt\n",
      "weather_2017.csv\n",
      "VOEUX83.txt\n",
      "VOEUX07.txt\n",
      "weather_2012.csv\n",
      "comptagevelo2017.xlsx\n",
      "final.txt\n",
      "comptagevelo2017.csv\n",
      "VOEUX89.txt\n",
      "VOEUX94.txt\n",
      "write.txt\n",
      "discours_politicien.zip\n",
      "VOEUX05.txt\n",
      "VOEUX90.txt\n",
      "VOEUX06.txt\n",
      "VOEUX01.txt\n",
      "VOEUX87.txt\n",
      "VOEUX75.txt\n",
      "f(4).txt\n",
      "226ee.jpg\n",
      "140(9).jpg\n",
      "140(4).jpg\n",
      "30b06.jpg\n",
      "f(2).txt\n",
      "44ddc.jpg\n",
      "f.txt\n",
      "20d4b.jpg\n",
      "6f4bb.jpg\n",
      "get(2)\n",
      "f21a9.jpg\n",
      "f3de7.jpg\n",
      "wonderpush.min.html\n",
      "2402-245398-48616-4.gif\n",
      "gather_id(1)\n",
      "110.png\n",
      "getids\n",
      "3c6f0.jpg\n",
      "275(2).jpg\n",
      "V6zvOIoD.js\n",
      "67b5b.jpg\n",
      "0d3f9.png\n",
      "1ce06.jpg\n",
      "f(3).txt\n",
      "140.jpg\n",
      "widgetGlobalEvent(1)\n",
      "140(3).jpg\n",
      "140(7).jpg\n",
      "f(5).txt\n",
      "styles.css\n",
      "140(10).jpg\n",
      "140(8).jpg\n",
      "wonderpush-loader.min.js\n",
      "3b4c8.jpg\n",
      "275.jpg\n",
      "0CA20181029124202ADs201810291242024F98d8q4aBxcs.js\n",
      "gen_204.gif\n",
      "get\n",
      "140(11).jpg\n",
      "4f412.jpg\n",
      "widgetGlobalEvent(2)\n",
      "hudactive.html\n",
      "6636b.jpg\n",
      "140(2).jpg\n",
      "widgetGlobalEvent\n",
      "fb0a7.jpg\n",
      "ads-cch-20181026165210.js\n",
      "widget.css\n",
      "6uQTKQJz(1).html\n",
      "140(1).jpg\n",
      "gen_204(1).gif\n",
      "275(5).jpg\n",
      "SVG-EFR.svg\n",
      "wonderpush.min.js\n",
      "widget.js\n",
      "275(4).jpg\n",
      "1x1.a\n",
      "wamfactory_dpm.lequipe.min.js\n",
      "f(6).txt\n",
      "201b8.jpg\n",
      "800(1).jpg\n",
      "800.jpg\n",
      "f(7).txt\n",
      "SVG-EFR(1).svg\n",
      "49d3b.jpg\n",
      "0a315.jpg\n",
      "gather_id\n",
      "fbevents.js\n",
      "get(1)\n",
      "tag.min.js\n",
      "0f245.jpg\n",
      "275(3).jpg\n",
      "125278988146629\n",
      "140(5).jpg\n",
      "f(9).txt\n",
      "2402-245398-48616-4(1).gif\n",
      "f(10).txt\n",
      "140(6).jpg\n",
      "f(8).txt\n",
      "html_inpage_rendering_lib_200_243.js\n",
      "6uQTKQJz.html\n",
      "gpt.js\n",
      "275(1).jpg\n",
      "guid.html\n",
      "file_handling-checkpoint.ipynb\n"
     ]
    }
   ],
   "source": [
    "folder_path = os.path.abspath(\"./\")\n",
    "print(folder_path)\n",
    "\n",
    "for path, dirs, files in os.walk(folder_path):\n",
    "    for filename in files:\n",
    "        print(filename)"
   ]
  },
  {
   "cell_type": "markdown",
   "metadata": {},
   "source": [
    "Put all the **`.txt` files** from the `data/` directory into a variable.\n",
    "    Then, copy the content of all the files from this variable into a file in `data/` that you will name `final.txt`.\n"
   ]
  },
  {
   "cell_type": "code",
   "execution_count": 17,
   "metadata": {
    "scrolled": true
   },
   "outputs": [
    {
     "name": "stdout",
     "output_type": "stream",
     "text": [
      "/home/soukaina/Desktop/becode_course/ANT-Theano-4/content/2.python/2.python_advanced/04.File-handling\n"
     ]
    }
   ],
   "source": [
    "older_path = os.path.abspath(\"./data\")\n",
    "print(folder_path)\n",
    "\n",
    "textfiles = []\n",
    "\n",
    "# put all files in one variable list3\n",
    "\n",
    "list2 = os.listdir()\n",
    "allfiles = os.listdir(list2[0])\n",
    "#print(allfiles)\n",
    "\n",
    "#put all text file in one list:\n",
    "\n",
    "for each_file in allfiles:\n",
    "    if each_file.endswith('.txt'):\n",
    "        textfiles.append(each_file)\n",
    "\n",
    "# creat a new file final.txt in append mode:\n",
    "originFile = \"\"\n",
    "final = open(\"final.txt\",'a+')\n",
    "\n",
    "# copy each file contents into final.txt:\n",
    "for file1 in textfiles:\n",
    "    filename = f\"./data/{file1}\"\n",
    "    originFile = open(filename,'r',encoding = \"ISO-8859-1\")\n",
    "    \n",
    "\n",
    "    lines = originFile.readlines()\n",
    "\n",
    "    for each_line in lines:\n",
    "        final.write(each_line)\n",
    "\n",
    "\n",
    "#print(\"The text files are: \\n\",final.readlines())\n",
    "\n",
    "        \n",
    "       "
   ]
  },
  {
   "cell_type": "markdown",
   "metadata": {},
   "source": [
    "New task. Using a loop, can you open all the files from your `data/` directory and save all their contents in a variable ?"
   ]
  },
  {
   "cell_type": "code",
   "execution_count": 30,
   "metadata": {},
   "outputs": [
    {
     "name": "stdout",
     "output_type": "stream",
     "text": [
      "/home/soukaina/Desktop/becode_course/ANT-Theano-4/content/2.python/2.python_advanced/04.File-handling/data\n"
     ]
    },
    {
     "ename": "AttributeError",
     "evalue": "'_io.TextIOWrapper' object has no attribute 'append'",
     "output_type": "error",
     "traceback": [
      "\u001b[0;31m---------------------------------------------------------------------------\u001b[0m",
      "\u001b[0;31mAttributeError\u001b[0m                            Traceback (most recent call last)",
      "\u001b[0;32m<ipython-input-30-7de45a13f195>\u001b[0m in \u001b[0;36m<module>\u001b[0;34m\u001b[0m\n\u001b[1;32m     41\u001b[0m             \u001b[0many_file\u001b[0m\u001b[0;34m=\u001b[0m\u001b[0mopen\u001b[0m\u001b[0;34m(\u001b[0m\u001b[0;34mf'./data/{each_file}'\u001b[0m\u001b[0;34m,\u001b[0m\u001b[0;34m'r'\u001b[0m\u001b[0;34m)\u001b[0m\u001b[0;34m\u001b[0m\u001b[0;34m\u001b[0m\u001b[0m\n\u001b[1;32m     42\u001b[0m             \u001b[0;32mfor\u001b[0m \u001b[0mline\u001b[0m \u001b[0;32min\u001b[0m \u001b[0many_file\u001b[0m\u001b[0;34m.\u001b[0m\u001b[0mreadlines\u001b[0m\u001b[0;34m(\u001b[0m\u001b[0;34m)\u001b[0m\u001b[0;34m:\u001b[0m\u001b[0;34m\u001b[0m\u001b[0;34m\u001b[0m\u001b[0m\n\u001b[0;32m---> 43\u001b[0;31m                 \u001b[0many_file\u001b[0m\u001b[0;34m.\u001b[0m\u001b[0mappend\u001b[0m\u001b[0;34m(\u001b[0m\u001b[0mline\u001b[0m\u001b[0;34m)\u001b[0m\u001b[0;34m\u001b[0m\u001b[0;34m\u001b[0m\u001b[0m\n\u001b[0m\u001b[1;32m     44\u001b[0m             \u001b[0mprint\u001b[0m\u001b[0;34m(\u001b[0m\u001b[0many_file\u001b[0m\u001b[0;34m)\u001b[0m\u001b[0;34m\u001b[0m\u001b[0;34m\u001b[0m\u001b[0m\n\u001b[1;32m     45\u001b[0m \u001b[0;34m\u001b[0m\u001b[0m\n",
      "\u001b[0;31mAttributeError\u001b[0m: '_io.TextIOWrapper' object has no attribute 'append'"
     ]
    }
   ],
   "source": [
    "import zipfile\n",
    "import io\n",
    "\n",
    "older_path = os.path.abspath(\"./data\")\n",
    "print(older_path)\n",
    "path=\"./data/lequipe-du sport en continu._files\"\n",
    "\n",
    "files2 = []\n",
    "folder_files=[]\n",
    "any_files=[]\n",
    "\n",
    "# put all files in one variable list3\n",
    "\n",
    "list2 = os.listdir()\n",
    "files3 = os.listdir(list2[0])\n",
    "#print(files3)\n",
    "\n",
    "#put all text file in one list:\n",
    "\n",
    "for each_file in files3:\n",
    "    if each_file.endswith('.zip'):\n",
    "        target = \"./data/discours_politicien.zip\"\n",
    "        list = zipfile.ZipFile(target)\n",
    "        handel = list.namelist()\n",
    "        for x in handel:\n",
    "            with io.TextIOWrapper(list.open(x), encoding= 'utf8', errors='ignore')as f:\n",
    "                data = f.readlines()\n",
    "                for line in data:\n",
    "                    files2.append(line) \n",
    "                \n",
    "    elif each_file=='lequipe-du sport en continu._files':\n",
    "        for path, dirs, files in os.walk(path):\n",
    "            for file in files:\n",
    "                sub_folder=open(f'{path}/{file}','r',encoding= 'utf8', errors='ignore')\n",
    "                for line in sub_folder.readlines():              \n",
    "                    folder_files.append(line)\n",
    "                print(folder_files)\n",
    "                \n",
    "    else:\n",
    "        for each_file in files3:\n",
    "            any_file=open(f'./data/{each_file}','r')\n",
    "            for line in any_file.readlines():\n",
    "                any_file.append(line)\n",
    "            print(any_file)    \n",
    "                        \n",
    "\n",
    "        "
   ]
  },
  {
   "cell_type": "markdown",
   "metadata": {},
   "source": [
    "Finally, save this concatenated information (assemblies) in a new file."
   ]
  },
  {
   "cell_type": "code",
   "execution_count": null,
   "metadata": {},
   "outputs": [],
   "source": []
  }
 ],
 "metadata": {
  "kernelspec": {
   "display_name": "Python 3",
   "language": "python",
   "name": "python3"
  },
  "language_info": {
   "codemirror_mode": {
    "name": "ipython",
    "version": 3
   },
   "file_extension": ".py",
   "mimetype": "text/x-python",
   "name": "python",
   "nbconvert_exporter": "python",
   "pygments_lexer": "ipython3",
   "version": "3.8.10"
  }
 },
 "nbformat": 4,
 "nbformat_minor": 2
}
